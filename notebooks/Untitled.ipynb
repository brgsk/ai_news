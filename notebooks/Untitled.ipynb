{
  "cells": [
    {
      "cell_type": "code",
      "execution_count": 1,
      "metadata": {},
      "outputs": [],
      "source": [
        "import feedparser\n",
        "\n",
        "from transformers import pipeline"
      ]
    },
    {
      "cell_type": "code",
      "execution_count": 2,
      "metadata": {},
      "outputs": [],
      "source": [
        "# Function to fetch RSS feed\n",
        "def fetch_rss_feed(url):\n",
        "    return feedparser.parse(url)"
      ]
    },
    {
      "cell_type": "code",
      "execution_count": 3,
      "metadata": {},
      "outputs": [],
      "source": [
        "# Function to extract articles from feeds\n",
        "def extract_articles_from_feeds(feeds):\n",
        "    articles = []\n",
        "    for feed in feeds:\n",
        "        for entry in feed.entries:\n",
        "            articles.append({\n",
        "                'title': entry.title,\n",
        "                'description': entry.summary,\n",
        "                'content': entry.summary,  # RSS feeds usually have a summary\n",
        "                'url': entry.link,\n",
        "                'published': entry.published\n",
        "            })\n",
        "    return articles"
      ]
    },
    {
      "cell_type": "code",
      "execution_count": null,
      "metadata": {},
      "outputs": [],
      "source": [
        "rss_urls = [\n",
        "    'https://magazine.sebastianraschka.com/feed/',\n",
        "    'https://cameronrwolfe.substack.com/feed/',\n",
        "    'https://www.artificialintelligence-news.com/feed/',\n",
        "    'https://spectrum.ieee.org/feeds/topic/artificial-intelligence.rss',\n",
        "    'https://news.mit.edu/topic/mitmachine-learning-rss.xml',\n",
        "    'https://www.nature.com/subjects/machine-learning.rss',\n",
        "    'https://the-decoder.com/artificial-intelligence-news/feed/',\n",
        "    'https://news.mit.edu/topic/mitartificial-intelligence2-rss.xml'\n",
        "]"
      ]
    },
    {
      "cell_type": "code",
      "execution_count": null,
      "metadata": {},
      "outputs": [],
      "source": [
        "feeds = [fetch_rss_feed(url) for url in rss_urls]"
      ]
    },
    {
      "cell_type": "code",
      "execution_count": null,
      "metadata": {},
      "outputs": [],
      "source": [
        "# Function to extract articles from feeds\n",
        "def extract_articles_from_feeds(feeds):\n",
        "    articles = []\n",
        "    for feed in feeds:\n",
        "        for entry in feed.entries:\n",
        "            articles.append({\n",
        "                'title': entry.title,\n",
        "                'description': entry.summary,\n",
        "                'content': entry.summary,  # RSS feeds usually have a summary\n",
        "                'url': entry.link,\n",
        "                'published': entry.published\n",
        "            })\n",
        "    return articles"
      ]
    },
    {
      "cell_type": "code",
      "execution_count": null,
      "metadata": {},
      "outputs": [],
      "source": [
        "# Extract articles\n",
        "articles = extract_articles_from_feeds(feeds)"
      ]
    },
    {
      "cell_type": "code",
      "execution_count": null,
      "metadata": {},
      "outputs": [],
      "source": [
        "# Function to filter articles by keywords\n",
        "def filter_articles_by_keywords(articles, keywords):\n",
        "   filtered_articles = []\n",
        "   for article in articles:\n",
        "       content = article['title'] + \" \" + article['description']\n",
        "       if any(keyword.lower() in content.lower() for keyword in keywords):\n",
        "           filtered_articles.append(article)\n",
        "   return filtered_articles"
      ]
    },
    {
      "cell_type": "code",
      "execution_count": null,
      "metadata": {},
      "outputs": [],
      "source": [
        "keywords = ['machine learning', 'artificial intelligence', ' AI ', 'deep learning', ' ML ', ' DL ']"
      ]
    },
    {
      "cell_type": "code",
      "execution_count": null,
      "metadata": {},
      "outputs": [],
      "source": [
        "# Filter articles\n",
        "filtered_articles = filter_articles_by_keywords(articles, keywords)"
      ]
    },
    {
      "cell_type": "code",
      "execution_count": null,
      "metadata": {},
      "outputs": [],
      "source": [
        "# Function to summarize articles\n",
        "def summarize_article(article_content):\n",
        "    summarizer = pipeline('summarization')\n",
        "    summary = summarizer(article_content, max_length=130, min_length=30, do_sample=False)\n",
        "    return summary[0]['summary_text']"
      ]
    },
    {
      "cell_type": "code",
      "execution_count": null,
      "metadata": {},
      "outputs": [],
      "source": [
        "# Summarize filtered articles\n",
        "summaries = [summarize_article(article['content']) for article in filtered_articles]\n"
      ]
    },
    {
      "cell_type": "code",
      "execution_count": null,
      "metadata": {},
      "outputs": [],
      "source": [
        "# Function to generate newsletter\n",
        "def generate_newsletter(summaries):\n",
        "    newsletter = \"AI News Update\\n\\n\"\n",
        "    for idx, summary in enumerate(summaries):\n",
        "        newsletter += f\"Article {idx + 1}:\\n{summary}\\n\\n\"\n",
        "    return newsletter"
      ]
    },
    {
      "cell_type": "code",
      "execution_count": null,
      "metadata": {},
      "outputs": [],
      "source": []
    }
  ],
  "metadata": {
    "kernelspec": {
      "display_name": ".venv",
      "language": "python",
      "name": "python3"
    },
    "language_info": {
      "codemirror_mode": {
        "name": "ipython",
        "version": 3
      },
      "file_extension": ".py",
      "mimetype": "text/x-python",
      "name": "python",
      "nbconvert_exporter": "python",
      "pygments_lexer": "ipython3",
      "version": "3.11.9"
    }
  },
  "nbformat": 4,
  "nbformat_minor": 2
}
